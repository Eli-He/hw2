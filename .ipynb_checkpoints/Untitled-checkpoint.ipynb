{
 "cells": [
  {
   "cell_type": "markdown",
   "metadata": {},
   "source": [
    "### 1"
   ]
  },
  {
   "cell_type": "code",
   "execution_count": 1,
   "metadata": {
    "collapsed": true
   },
   "outputs": [],
   "source": [
    "inp = \"x 2 , x 1 , x 3 , x 8 , x 13 , x 6 , x 5 , x 7 , x 9 , x 12 , x 10 , x 11 , x 15 , x 4 , x 14 , x 16 , x 17 , x 20 , x 18 , x 19\"\n",
    "\n",
    "inp=[int(i) for i in inp.split() if i.isdigit()]"
   ]
  },
  {
   "cell_type": "code",
   "execution_count": 19,
   "metadata": {
    "collapsed": false,
    "scrolled": true
   },
   "outputs": [
    {
     "data": {
      "image/png": "[encoded data removed]",
      "text/plain": [
       "<matplotlib.figure.Figure at 0x7feb4a9f7b90>"
      ]
     },
     "metadata": {},
     "output_type": "display_data"
    }
   ],
   "source": [
    "x=[0]\n",
    "y=[0]\n",
    "\n",
    "%matplotlib inline\n",
    "import matplotlib.pyplot as plt\n",
    "\n",
    "for i in inp:\n",
    "    if i<=12:\n",
    "        y.append(y[-1]+1)\n",
    "        x.append(x[-1])\n",
    "    else:\n",
    "        y.append(y[-1])\n",
    "        x.append(x[-1]+1)\n",
    "\n",
    "plt.xlim(x[0]-.1,x[-1]+.1)\n",
    "plt.ylim(x[0]-.1,y[-1]+.1)\n",
    "plt.ylabel('TP')\n",
    "plt.xlabel('FP')\n",
    "plt.scatter(x,y)\n",
    "plt.grid()\n",
    "plt.gca().set_aspect('equal', adjustable='box')\n",
    "plt.savefig('1.pdf')\n",
    "plt.show()\n"
   ]
  },
  {
   "cell_type": "code",
   "execution_count": null,
   "metadata": {
    "collapsed": true
   },
   "outputs": [],
   "source": []
  }
 ],
 "metadata": {
  "kernelspec": {
   "display_name": "Python 2",
   "language": "python",
   "name": "python2"
  },
  "language_info": {
   "codemirror_mode": {
    "name": "ipython",
    "version": 2
   },
   "file_extension": ".py",
   "mimetype": "text/x-python",
   "name": "python",
   "nbconvert_exporter": "python",
   "pygments_lexer": "ipython2",
   "version": "2.7.11"
  }
 },
 "nbformat": 4,
 "nbformat_minor": 0
}
